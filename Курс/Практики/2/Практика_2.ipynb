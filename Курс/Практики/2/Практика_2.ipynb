{
  "cells": [
    {
      "cell_type": "markdown",
      "metadata": {},
      "source": [
        "# Практика 2: Калибровка и эпиполярная геометрия\n",
        "\n",
        "Структура:\n",
        "1) Импорт и пререквизиты\n",
        "2) Поиск углов шахматки и сбор данных\n",
        "3) Превью найденных углов\n",
        "4) Калибровка (RMS, K, dist)\n",
        "5) Интерпретация чисел и репроекционные ошибки\n",
        "6) Галерея до/после undistort\n",
        "7) Сохранение K/dist в JSON\n",
        "8) Соответствия, F с RANSAC\n",
        "9) Эпиполярные линии и их интерпретация\n",
        "10) Бонус: E и recoverPose\n"
      ]
    },
    {
      "cell_type": "markdown",
      "metadata": {},
      "source": [
        "## 1) Импорт и пререквизиты\n",
        "Загружаем зависимости и задаём пути к данным. `pattern_size` — число внутренних углов (столбцы×строки) у шахматки.\n"
      ]
    },
    {
      "cell_type": "code",
      "execution_count": null,
      "metadata": {},
      "outputs": [],
      "source": [
        "import sys, subprocess, pkgutil, glob, os\n",
        "\n",
        "def ensure(package):\n",
        "    if pkgutil.find_loader(package) is None:\n",
        "        subprocess.check_call([sys.executable, \"-m\", \"pip\", \"install\", package])\n",
        "\n",
        "for p in [\"opencv-python\", \"numpy\", \"matplotlib\"]:\n",
        "    ensure(p)\n",
        "\n",
        "import cv2 as cv\n",
        "import numpy as np\n",
        "import matplotlib.pyplot as plt\n",
        "\n",
        "print(\"OpenCV:\", cv.__version__)\n",
        "\n",
        "chess_dir = \"./data/\"      # изображения шахматки (jpg)\n",
        "scene_dir = \"./data/scene/\" # два кадра сцены: img1.jpg/img2.jpg (или .jpeg)\n",
        "pattern_size = (9, 6)\n",
        "criteria = (cv.TERM_CRITERIA_EPS + cv.TERM_CRITERIA_MAX_ITER, 30, 0.001)\n"
      ]
    },
    {
      "cell_type": "markdown",
      "metadata": {},
      "source": [
        "## 2) Поиск углов шахматки и сбор данных\n",
        "Извлекаем углы на каждой картинке, формируем `objpoints` (3D точки плоскости) и `imgpoints` (2D координаты углов).\n"
      ]
    },
    {
      "cell_type": "code",
      "execution_count": null,
      "metadata": {},
      "outputs": [],
      "source": [
        "objp = np.zeros((pattern_size[0]*pattern_size[1], 3), np.float32)\n",
        "objp[:, :2] = np.mgrid[0:pattern_size[0], 0:pattern_size[1]].T.reshape(-1, 2)\n",
        "\n",
        "objpoints, imgpoints = [], []\n",
        "img_shape = None\n",
        "all_files = sorted(glob.glob(os.path.join(chess_dir, '*.jpg')))\n",
        "for fname in all_files:\n",
        "    img = cv.imread(fname)\n",
        "    if img is None:\n",
        "        continue\n",
        "    gray = cv.cvtColor(img, cv.COLOR_BGR2GRAY)\n",
        "    if img_shape is None:\n",
        "        img_shape = gray.shape[::-1]\n",
        "    ret, corners = cv.findChessboardCorners(gray, pattern_size)\n",
        "    if ret:\n",
        "        corners2 = cv.cornerSubPix(gray, corners, (11,11), (-1,-1), criteria)\n",
        "        objpoints.append(objp)\n",
        "        imgpoints.append(corners2)\n",
        "print(f\"Найдено кадров с углами: {len(imgpoints)} из {len(all_files)}\")\n"
      ]
    },
    {
      "cell_type": "markdown",
      "metadata": {},
      "source": [
        "## 3) Превью углов\n",
        "Проверяем на нескольких кадрах корректность детекции (`drawChessboardCorners`).\n"
      ]
    },
    {
      "cell_type": "code",
      "execution_count": null,
      "metadata": {},
      "outputs": [],
      "source": [
        "import random\n",
        "found_idx = []\n",
        "for i, fname in enumerate(all_files):\n",
        "    img = cv.imread(fname)\n",
        "    if img is None:\n",
        "        continue\n",
        "    gray = cv.cvtColor(img, cv.COLOR_BGR2GRAY)\n",
        "    ret, corners = cv.findChessboardCorners(gray, pattern_size)\n",
        "    if ret:\n",
        "        found_idx.append(i)\n",
        "\n",
        "sample_idx = random.sample(found_idx, min(4, len(found_idx))) if found_idx else []\n",
        "cols = len(sample_idx) if sample_idx else 1\n",
        "plt.figure(figsize=(4*cols, 4))\n",
        "for j, idx in enumerate(sample_idx):\n",
        "    fname = all_files[idx]\n",
        "    img = cv.imread(fname)\n",
        "    gray = cv.cvtColor(img, cv.COLOR_BGR2GRAY)\n",
        "    ret, corners = cv.findChessboardCorners(gray, pattern_size)\n",
        "    if ret:\n",
        "        cv.drawChessboardCorners(img, pattern_size, corners, ret)\n",
        "    plt.subplot(1, cols, j+1)\n",
        "    plt.title(os.path.basename(fname))\n",
        "    plt.imshow(cv.cvtColor(img, cv.COLOR_BGR2RGB))\n",
        "    plt.axis('off')\n",
        "plt.show()\n"
      ]
    },
    {
      "cell_type": "markdown",
      "metadata": {},
      "source": [
        "## 4) Калибровка (RMS, K, dist)\n",
        "Оцениваем параметры камеры. RMS — средняя ошибка проекции по всем кадрам (в пикселях).\n"
      ]
    },
    {
      "cell_type": "code",
      "execution_count": null,
      "metadata": {},
      "outputs": [],
      "source": [
        "assert len(objpoints) >= 10, \"Слишком мало кадров шахматки (нужно >=10)\"\n",
        "ret, K, dist, rvecs, tvecs = cv.calibrateCamera(objpoints, imgpoints, img_shape, None, None)\n",
        "print(\"RMS:\", ret)\n",
        "print(\"K:\\n\", K)\n",
        "print(\"dist:\", dist.ravel())\n"
      ]
    },
    {
      "cell_type": "markdown",
      "metadata": {},
      "source": [
        "## 5) Интерпретация метрик\n",
        "Считаем репроекционные ошибки по кадрам и смотрим распределение (средняя/медиана/мин/макс).\n"
      ]
    },
    {
      "cell_type": "code",
      "execution_count": null,
      "metadata": {},
      "outputs": [],
      "source": [
        "per_frame_err = []\n",
        "for i, (objp_i, imgp_i, rvec, tvec) in enumerate(zip(objpoints, imgpoints, rvecs, tvecs)):\n",
        "    proj, _ = cv.projectPoints(objp_i, rvec, tvec, K, dist)\n",
        "    err = cv.norm(imgp_i, proj, cv.NORM_L2) / len(proj)\n",
        "    per_frame_err.append(float(err))\n",
        "print(\"RMS:\", float(ret))\n",
        "print(\"Средняя:\", float(np.mean(per_frame_err)), \"Медианная:\", float(np.median(per_frame_err)))\n",
        "print(\"Мин/макс:\", float(np.min(per_frame_err)), float(np.max(per_frame_err)))\n"
      ]
    },
    {
      "cell_type": "markdown",
      "metadata": {},
      "source": [
        "## 6) Галерея до/после undistort\n",
        "Сравниваем несколько кадров до/после коррекции искажения.\n"
      ]
    },
    {
      "cell_type": "code",
      "execution_count": null,
      "metadata": {},
      "outputs": [],
      "source": [
        "sample = cv.imread(all_files[0])\n",
        "h, w = sample.shape[:2]\n",
        "newK, roi = cv.getOptimalNewCameraMatrix(K, dist, (w,h), 1, (w,h))\n",
        "N = min(4, len(all_files))\n",
        "sel = all_files[:N]\n",
        "plt.figure(figsize=(8, 2*N))\n",
        "for i, fname in enumerate(sel):\n",
        "    img = cv.imread(fname)\n",
        "    und_i = cv.undistort(img, K, dist, None, newK)\n",
        "    plt.subplot(N, 2, 2*i+1); plt.title(f'{os.path.basename(fname)} — до'); plt.imshow(cv.cvtColor(img, cv.COLOR_BGR2RGB)); plt.axis('off')\n",
        "    plt.subplot(N, 2, 2*i+2); plt.title('после'); plt.imshow(cv.cvtColor(und_i, cv.COLOR_BGR2RGB)); plt.axis('off')\n",
        "plt.tight_layout(); plt.show()\n"
      ]
    },
    {
      "cell_type": "markdown",
      "metadata": {},
      "source": [
        "## 7) Сохранение параметров K/dist\n",
        "Сохраняем результат калибровки для дальнейших практик.\n"
      ]
    },
    {
      "cell_type": "code",
      "execution_count": null,
      "metadata": {},
      "outputs": [],
      "source": [
        "import json\n",
        "os.makedirs(\"./outputs\", exist_ok=True)\n",
        "with open(\"./outputs/calib_params.json\", \"w\") as f:\n",
        "    json.dump({\"K\": K.tolist(), \"dist\": dist.ravel().tolist(), \"RMS\": float(ret)}, f, indent=2)\n",
        "print(\"Сохранено: ./outputs/calib_params.json\")\n"
      ]
    },
    {
      "cell_type": "markdown",
      "metadata": {},
      "source": [
        "## 8) Соответствия, F и RANSAC\n",
        "Берём два кадра одной сцены, находим соответствия (ORB+BFMatcher), оцениваем F с RANSAC и смотрим долю инлиеров.\n"
      ]
    },
    {
      "cell_type": "code",
      "execution_count": null,
      "metadata": {},
      "outputs": [],
      "source": [
        "img1 = cv.imread(os.path.join(scene_dir, 'img1.jpg')) or cv.imread(os.path.join(scene_dir, 'img1.jpeg'))\n",
        "img2 = cv.imread(os.path.join(scene_dir, 'img2.jpg')) or cv.imread(os.path.join(scene_dir, 'img2.jpeg'))\n",
        "assert img1 is not None and img2 is not None, \"Положите img1.jpg/img1.jpeg и img2.jpg/img2.jpeg в data/scene/\"\n",
        "\n",
        "orb = cv.ORB_create(2000)\n",
        "kp1, des1 = orb.detectAndCompute(cv.cvtColor(img1, cv.COLOR_BGR2GRAY), None)\n",
        "kp2, des2 = orb.detectAndCompute(cv.cvtColor(img2, cv.COLOR_BGR2GRAY), None)\n",
        "\n",
        "bf = cv.BFMatcher(cv.NORM_HAMMING, crossCheck=True)\n",
        "matches = bf.match(des1, des2)\n",
        "matches = sorted(matches, key=lambda m: m.distance)\n",
        "pts1 = np.float32([kp1[m.queryIdx].pt for m in matches]).reshape(-1,1,2)\n",
        "pts2 = np.float32([kp2[m.trainIdx].pt for m in matches]).reshape(-1,1,2)\n",
        "\n",
        "F, mask = cv.findFundamentalMat(pts1, pts2, cv.FM_RANSAC, 1.0, 0.99)\n",
        "print(\"Inliers:\", int(mask.sum()), \"/\", len(mask))\n"
      ]
    },
    {
      "cell_type": "markdown",
      "metadata": {},
      "source": [
        "## 9) Эпиполярные линии и интерпретация\n",
        "Строим эпилинии только для инлиеров. Точки должны лежать на соответствующих линиях (с учётом дискретизации/шумов).\n"
      ]
    },
    {
      "cell_type": "code",
      "execution_count": null,
      "metadata": {},
      "outputs": [],
      "source": [
        "inliers_mask = mask.ravel()==1\n",
        "inliers1 = pts1[inliers_mask]\n",
        "inliers2 = pts2[inliers_mask]\n",
        "\n",
        "lines1 = cv.computeCorrespondEpilines(inliers2.reshape(-1,1,2), 2, F).reshape(-1,3)\n",
        "lines2 = cv.computeCorrespondEpilines(inliers1.reshape(-1,1,2), 1, F).reshape(-1,3)\n",
        "\n",
        "h1, w1 = img1.shape[:2]\n",
        "h2, w2 = img2.shape[:2]\n",
        "img1_vis, img2_vis = img1.copy(), img2.copy()\n",
        "\n",
        "for (r, pt) in zip(lines1, inliers1.reshape(-1,2)):\n",
        "    color = tuple(np.random.randint(0,255,3).tolist())\n",
        "    x0, y0 = 0, int(-r[2]/r[1]); x1, y1 = w1, int((-r[2]-r[0]*w1)/r[1])\n",
        "    cv.line(img1_vis, (x0,y0), (x1,y1), color, 1)\n",
        "    cv.circle(img1_vis, tuple(np.int32(pt)), 3, color, -1)\n",
        "\n",
        "for (r, pt) in zip(lines2, inliers2.reshape(-1,2)):\n",
        "    color = tuple(np.random.randint(0,255,3).tolist())\n",
        "    x0, y0 = 0, int(-r[2]/r[1]); x1, y1 = w2, int((-r[2]-r[0]*w2)/r[1])\n",
        "    cv.line(img2_vis, (x0,y0), (x1,y1), color, 1)\n",
        "    cv.circle(img2_vis, tuple(np.int32(pt)), 3, color, -1)\n",
        "\n",
        "plt.figure(figsize=(10,4))\n",
        "plt.subplot(1,2,1); plt.title('Изображение 1: точки и эпилинии'); plt.imshow(cv.cvtColor(img1_vis, cv.COLOR_BGR2RGB)); plt.axis('off')\n",
        "plt.subplot(1,2,2); plt.title('Изображение 2: точки и эпилинии'); plt.imshow(cv.cvtColor(img2_vis, cv.COLOR_BGR2RGB)); plt.axis('off')\n",
        "plt.show()\n"
      ]
    },
    {
      "cell_type": "markdown",
      "metadata": {},
      "source": [
        "## 10) Бонус: E и recoverPose\n",
        "Если известна K, можно получить эссенциальную матрицу E и восстановить относительную позу (с точностью до масштаба).\n"
      ]
    },
    {
      "cell_type": "code",
      "execution_count": null,
      "metadata": {},
      "outputs": [],
      "source": [
        "if 'K' in globals() and K is not None:\n",
        "    E = K.T @ F @ K\n",
        "    valid, R, t, mask_pose = cv.recoverPose(E, inliers1, inliers2, K)\n",
        "    print(\"recoverPose valid:\", valid, \"inliers:\", int(mask_pose.sum()))\n"
      ]
    }
  ],
  "metadata": {
    "kernelspec": {
      "display_name": "Python 3",
      "language": "python",
      "name": "python3"
    },
    "language_info": {
      "codemirror_mode": {
        "name": "ipython",
        "version": 3
      },
      "file_extension": ".py",
      "mimetype": "text/x-python",
      "name": "python",
      "nbconvert_exporter": "python",
      "pygments_lexer": "ipython3",
      "version": "3.11.13"
    }
  },
  "nbformat": 4,
  "nbformat_minor": 2
}
